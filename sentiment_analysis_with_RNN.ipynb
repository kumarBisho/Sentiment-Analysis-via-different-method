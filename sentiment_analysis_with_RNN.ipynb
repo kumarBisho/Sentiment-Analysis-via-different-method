{
 "cells": [
  {
   "cell_type": "code",
   "execution_count": 36,
   "id": "364a2c3f-6422-42b7-8267-dd092fb141cd",
   "metadata": {},
   "outputs": [],
   "source": [
    "from tensorflow.keras.layers import SimpleRNN, LSTM, Dense, Embedding, Bidirectional, GRU\n",
    "from tensorflow.keras.datasets import imdb\n",
    "from tensorflow.keras.models import Sequential\n",
    "import numpy as np"
   ]
  },
  {
   "cell_type": "code",
   "execution_count": 8,
   "id": "ec6793c9-3b10-4220-bfeb-1352c88b80d9",
   "metadata": {
    "scrolled": true
   },
   "outputs": [
    {
     "name": "stdout",
     "output_type": "stream",
     "text": [
      "[1, 14, 22, 16, 43, 530, 973, 1622, 1385, 65, 458, 4468, 66, 3941, 4, 173, 36, 256, 5, 25, 100, 43, 838, 112, 50, 670, 2, 9, 35, 480, 284, 5, 150, 4, 172, 112, 167, 2, 336, 385, 39, 4, 172, 4536, 1111, 17, 546, 38, 13, 447, 4, 192, 50, 16, 6, 147, 2025, 19, 14, 22, 4, 1920, 4613, 469, 4, 22, 71, 87, 12, 16, 43, 530, 38, 76, 15, 13, 1247, 4, 22, 17, 515, 17, 12, 16, 626, 18, 2, 5, 62, 386, 12, 8, 316, 8, 106, 5, 4, 2223, 2, 16, 480, 66, 3785, 33, 4, 130, 12, 16, 38, 619, 5, 25, 124, 51, 36, 135, 48, 25, 1415, 33, 6, 22, 12, 215, 28, 77, 52, 5, 14, 407, 16, 82, 2, 8, 4, 107, 117, 2, 15, 256, 4, 2, 7, 3766, 5, 723, 36, 71, 43, 530, 476, 26, 400, 317, 46, 7, 4, 2, 1029, 13, 104, 88, 4, 381, 15, 297, 98, 32, 2071, 56, 26, 141, 6, 194, 2, 18, 4, 226, 22, 21, 134, 476, 26, 480, 5, 144, 30, 2, 18, 51, 36, 28, 224, 92, 25, 104, 4, 226, 65, 16, 38, 1334, 88, 12, 16, 283, 5, 16, 4472, 113, 103, 32, 15, 16, 2, 19, 178, 32]\n"
     ]
    }
   ],
   "source": [
    "vocab_size=5000\n",
    "(x_train,y_train),(x_test,y_test)=imdb.load_data(num_words=vocab_size)\n",
    "print(x_train[0])"
   ]
  },
  {
   "cell_type": "code",
   "execution_count": 13,
   "id": "587a8149-83c3-47cd-a9f0-2acf35ee9e6e",
   "metadata": {
    "scrolled": true
   },
   "outputs": [
    {
     "name": "stdout",
     "output_type": "stream",
     "text": [
      "['the', 'as', 'you', 'with', 'out', 'themselves', 'powerful', 'lets', 'loves', 'their', 'becomes', 'reaching', 'had', 'journalist', 'of', 'lot', 'from', 'anyone', 'to', 'have', 'after', 'out', 'atmosphere', 'never', 'more', 'room', 'and', 'it', 'so', 'heart', 'shows', 'to', 'years', 'of', 'every', 'never', 'going', 'and', 'help', 'moments', 'or', 'of', 'every', 'chest', 'visual', 'movie', 'except', 'her', 'was', 'several', 'of', 'enough', 'more', 'with', 'is', 'now', 'current', 'film', 'as', 'you', 'of', 'mine', 'potentially', 'unfortunately', 'of', 'you', 'than', 'him', 'that', 'with', 'out', 'themselves', 'her', 'get', 'for', 'was', 'camp', 'of', 'you', 'movie', 'sometimes', 'movie', 'that', 'with', 'scary', 'but', 'and', 'to', 'story', 'wonderful', 'that', 'in', 'seeing', 'in', 'character', 'to', 'of', '70s', 'and', 'with', 'heart', 'had', 'shadows', 'they', 'of', 'here', 'that', 'with', 'her', 'serious', 'to', 'have', 'does', 'when', 'from', 'why', 'what', 'have', 'critics', 'they', 'is', 'you', 'that', \"isn't\", 'one', 'will', 'very', 'to', 'as', 'itself', 'with', 'other', 'and', 'in', 'of', 'seen', 'over', 'and', 'for', 'anyone', 'of', 'and', 'br', \"show's\", 'to', 'whether', 'from', 'than', 'out', 'themselves', 'history', 'he', 'name', 'half', 'some', 'br', 'of', 'and', 'odd', 'was', 'two', 'most', 'of', 'mean', 'for', '1', 'any', 'an', 'boat', 'she', 'he', 'should', 'is', 'thought', 'and', 'but', 'of', 'script', 'you', 'not', 'while', 'history', 'he', 'heart', 'to', 'real', 'at', 'and', 'but', 'when', 'from', 'one', 'bit', 'then', 'have', 'two', 'of', 'script', 'their', 'with', 'her', 'nobody', 'most', 'that', 'with', \"wasn't\", 'to', 'with', 'armed', 'acting', 'watch', 'an', 'for', 'with', 'and', 'film', 'want', 'an']\n"
     ]
    }
   ],
   "source": [
    "word_idx=imdb.get_word_index()\n",
    "# print(word_idx)\n",
    "word_idx={i:word for word,i in word_idx.items()}\n",
    "# print(word_idx)\n",
    "print([word_idx[i] for i in x_train[0]])"
   ]
  },
  {
   "cell_type": "code",
   "execution_count": 14,
   "id": "fd460906-a56f-48fc-be1b-9288de03bbd3",
   "metadata": {},
   "outputs": [
    {
     "name": "stdout",
     "output_type": "stream",
     "text": [
      "max len of review :  2697\n",
      "mim len of review :  70\n"
     ]
    }
   ],
   "source": [
    "print(\"max len of review : \",len(max((x_train+x_test),key=len)))\n",
    "print(\"mim len of review : \",len(min((x_train+x_test),key=len)))"
   ]
  },
  {
   "cell_type": "code",
   "execution_count": 16,
   "id": "c3ac9517-b335-4bda-9a7b-ac43736f2470",
   "metadata": {},
   "outputs": [],
   "source": [
    "from tensorflow.keras.preprocessing import sequence\n",
    "\n",
    "max_words=400\n",
    "x_train=sequence.pad_sequences(x_train,maxlen=max_words)\n",
    "x_test=sequence.pad_sequences(x_train,maxlen=max_words)\n",
    "\n",
    "x_valid, y_valid=x_train[:64],y_train[:64]\n",
    "x_train,y_train=x_train[64:],y_train[64:]"
   ]
  },
  {
   "cell_type": "code",
   "execution_count": 17,
   "id": "57a9dcec-c9ee-47ca-a89c-2a7c325af402",
   "metadata": {},
   "outputs": [],
   "source": [
    "embd_len=32"
   ]
  },
  {
   "cell_type": "code",
   "execution_count": 18,
   "id": "346cafe9-ef9e-48b1-a27a-e5992a36edfc",
   "metadata": {},
   "outputs": [
    {
     "name": "stderr",
     "output_type": "stream",
     "text": [
      "2024-09-27 14:34:28.682931: E tensorflow/compiler/xla/stream_executor/cuda/cuda_driver.cc:268] failed call to cuInit: CUDA_ERROR_NO_DEVICE: no CUDA-capable device is detected\n"
     ]
    }
   ],
   "source": [
    "# Simple RNN\n",
    "\n",
    "rnn=Sequential(name='Simple_RNN')\n",
    "rnn.add(Embedding(vocab_size,embd_len,input_length=max_words))\n",
    "rnn.add(SimpleRNN(128,activation='tanh',return_sequences=False))\n",
    "rnn.add(Dense(1,activation='softmax'))"
   ]
  },
  {
   "cell_type": "code",
   "execution_count": 20,
   "id": "89b55127-28a1-44a6-9236-bf953f0671a9",
   "metadata": {},
   "outputs": [
    {
     "name": "stdout",
     "output_type": "stream",
     "text": [
      "Model: \"Simple_RNN\"\n",
      "_________________________________________________________________\n",
      " Layer (type)                Output Shape              Param #   \n",
      "=================================================================\n",
      " embedding (Embedding)       (None, 400, 32)           160000    \n",
      "                                                                 \n",
      " simple_rnn (SimpleRNN)      (None, 128)               20608     \n",
      "                                                                 \n",
      " dense (Dense)               (None, 1)                 129       \n",
      "                                                                 \n",
      "=================================================================\n",
      "Total params: 180737 (706.00 KB)\n",
      "Trainable params: 180737 (706.00 KB)\n",
      "Non-trainable params: 0 (0.00 Byte)\n",
      "_________________________________________________________________\n",
      "None\n"
     ]
    }
   ],
   "source": [
    "print(rnn.summary())"
   ]
  },
  {
   "cell_type": "code",
   "execution_count": 22,
   "id": "3b4017a4-0975-46ea-985e-3569aec5a435",
   "metadata": {},
   "outputs": [
    {
     "name": "stdout",
     "output_type": "stream",
     "text": [
      "Epoch 1/5\n",
      "390/390 [==============================] - 32s 80ms/step - loss: 0.6764 - accuracy: 0.5003 - val_loss: 0.6212 - val_accuracy: 0.3906\n",
      "Epoch 2/5\n",
      "390/390 [==============================] - 32s 81ms/step - loss: 0.5303 - accuracy: 0.5003 - val_loss: 0.6395 - val_accuracy: 0.3906\n",
      "Epoch 3/5\n",
      "390/390 [==============================] - 32s 82ms/step - loss: 0.5238 - accuracy: 0.5003 - val_loss: 0.5189 - val_accuracy: 0.3906\n",
      "Epoch 4/5\n",
      "390/390 [==============================] - 33s 85ms/step - loss: 0.4517 - accuracy: 0.5003 - val_loss: 0.4388 - val_accuracy: 0.3906\n",
      "Epoch 5/5\n",
      "390/390 [==============================] - 35s 89ms/step - loss: 0.5346 - accuracy: 0.5003 - val_loss: 0.6367 - val_accuracy: 0.3906\n"
     ]
    }
   ],
   "source": [
    "# compile rnn model\n",
    "\n",
    "rnn.compile(\n",
    "    loss='binary_crossentropy',\n",
    "    optimizer='adam',\n",
    "    metrics=['accuracy']\n",
    ")\n",
    "history1=rnn.fit(x_train,y_train,batch_size=64,epochs=5,verbose=1,validation_data=(x_valid,y_valid))"
   ]
  },
  {
   "cell_type": "code",
   "execution_count": 23,
   "id": "a97e95c5-ca65-4e75-a46d-29b7b353f289",
   "metadata": {},
   "outputs": [
    {
     "name": "stdout",
     "output_type": "stream",
     "text": [
      "782/782 [==============================] - 16s 21ms/step - loss: 0.8736 - accuracy: 0.5000\n",
      "rnn model score ->  [0.873644232749939, 0.5]\n"
     ]
    }
   ],
   "source": [
    "print(\"rnn model score -> \",rnn.evaluate(x_test,y_test,verbose=1))"
   ]
  },
  {
   "cell_type": "code",
   "execution_count": 24,
   "id": "1220ebb5-b534-46a0-b929-022a0e01fce4",
   "metadata": {},
   "outputs": [],
   "source": [
    "# Gated reccurent unit GRU\n",
    "gru=Sequential(name='GRU_model')\n",
    "gru.add(Embedding(vocab_size,embd_len,input_length=max_words))\n",
    "gru.add(GRU(128,activation='tanh',return_sequences=False))\n",
    "gru.add(Dense(1,activation='softmax'))"
   ]
  },
  {
   "cell_type": "code",
   "execution_count": 25,
   "id": "aaca0a52-be6d-4d59-a9c0-76f4f79bbb27",
   "metadata": {},
   "outputs": [
    {
     "name": "stdout",
     "output_type": "stream",
     "text": [
      "Epoch 1/5\n",
      "390/390 [==============================] - 91s 229ms/step - loss: 0.5057 - accuracy: 0.5003 - val_loss: 0.2504 - val_accuracy: 0.3906\n",
      "Epoch 2/5\n",
      "390/390 [==============================] - 101s 260ms/step - loss: 0.3111 - accuracy: 0.5003 - val_loss: 0.2630 - val_accuracy: 0.3906\n",
      "Epoch 3/5\n",
      "390/390 [==============================] - 100s 256ms/step - loss: 0.2398 - accuracy: 0.5003 - val_loss: 0.2009 - val_accuracy: 0.3906\n",
      "Epoch 4/5\n",
      "390/390 [==============================] - 102s 260ms/step - loss: 0.1888 - accuracy: 0.5003 - val_loss: 0.1947 - val_accuracy: 0.3906\n",
      "Epoch 5/5\n",
      "390/390 [==============================] - 102s 260ms/step - loss: 0.1471 - accuracy: 0.5003 - val_loss: 0.2718 - val_accuracy: 0.3906\n"
     ]
    }
   ],
   "source": [
    "gru.compile(\n",
    "    loss='binary_crossentropy',\n",
    "    optimizer='adam',\n",
    "    metrics=['accuracy']\n",
    ")\n",
    "history2=gru.fit(x_train,y_train,batch_size=64,epochs=5,verbose=1,validation_data=(x_valid,y_valid))"
   ]
  },
  {
   "cell_type": "code",
   "execution_count": 27,
   "id": "b15d5f23-8dd7-47c0-a0cb-e06514745dc6",
   "metadata": {},
   "outputs": [
    {
     "name": "stdout",
     "output_type": "stream",
     "text": [
      "782/782 [==============================] - 40s 50ms/step - loss: 2.3968 - accuracy: 0.5000\n",
      "rnn model score ->  [2.3968100547790527, 0.5]\n"
     ]
    }
   ],
   "source": [
    "print(\"rnn model score -> \",gru.evaluate(x_test,y_test,verbose=1))"
   ]
  },
  {
   "cell_type": "code",
   "execution_count": 29,
   "id": "193fe089-da92-4c9b-b40d-369012a762fa",
   "metadata": {},
   "outputs": [],
   "source": [
    "# LSTM\n",
    "lstm=Sequential(name='LSTM_model')\n",
    "lstm.add(Embedding(vocab_size,embd_len,input_length=max_words))\n",
    "lstm.add(LSTM(128,activation='relu',return_sequences=False))\n",
    "lstm.add(Dense(1,activation='softmax'))"
   ]
  },
  {
   "cell_type": "code",
   "execution_count": 31,
   "id": "417f4c8b-5f9e-46f3-bbf4-872db2e31b45",
   "metadata": {},
   "outputs": [
    {
     "name": "stdout",
     "output_type": "stream",
     "text": [
      "Epoch 1/5\n",
      "390/390 - 108s - loss: nan - accuracy: 0.4997 - val_loss: nan - val_accuracy: 0.6094 - 108s/epoch - 277ms/step\n",
      "Epoch 2/5\n",
      "390/390 - 108s - loss: nan - accuracy: 0.4997 - val_loss: nan - val_accuracy: 0.6094 - 108s/epoch - 277ms/step\n",
      "Epoch 3/5\n",
      "390/390 - 108s - loss: nan - accuracy: 0.4997 - val_loss: nan - val_accuracy: 0.6094 - 108s/epoch - 277ms/step\n",
      "Epoch 4/5\n",
      "390/390 - 107s - loss: nan - accuracy: 0.4997 - val_loss: nan - val_accuracy: 0.6094 - 107s/epoch - 274ms/step\n",
      "Epoch 5/5\n",
      "390/390 - 107s - loss: nan - accuracy: 0.4997 - val_loss: nan - val_accuracy: 0.6094 - 107s/epoch - 274ms/step\n"
     ]
    }
   ],
   "source": [
    "# compile model\n",
    "\n",
    "lstm.compile(\n",
    "    loss='binary_crossentropy',\n",
    "    optimizer='adam',\n",
    "    metrics=['accuracy']\n",
    ")\n",
    "history3=lstm.fit(x_train,y_train,batch_size=64,epochs=5,verbose=2,validation_data=(x_valid,y_valid))"
   ]
  },
  {
   "cell_type": "code",
   "execution_count": 32,
   "id": "f2a6fef0-4fa6-4fc6-8fa9-4821a42b2df0",
   "metadata": {},
   "outputs": [
    {
     "name": "stdout",
     "output_type": "stream",
     "text": [
      "782/782 [==============================] - 59s 76ms/step - loss: nan - accuracy: 0.5000\n",
      "rnn model score ->  [nan, 0.5]\n"
     ]
    }
   ],
   "source": [
    "print(\"rnn model score -> \",lstm.evaluate(x_test,y_test,verbose=1))"
   ]
  },
  {
   "cell_type": "code",
   "execution_count": 38,
   "id": "f590762f-8cea-4f0a-8518-72834cdea9de",
   "metadata": {},
   "outputs": [],
   "source": [
    "# Bidirectional LSTM\n",
    "bi_lstm_model = Sequential(name=\"Bidirectional_LSTM\")\n",
    "bi_lstm_model.add(Embedding(vocab_size, embd_len, input_length=max_words))\n",
    "bi_lstm_model.add(Bidirectional(LSTM(128, activation='tanh', return_sequences=False)))\n",
    "bi_lstm_model.add(Dense(1, activation='sigmoid'))\n"
   ]
  },
  {
   "cell_type": "code",
   "execution_count": 39,
   "id": "cd489104-a316-4a9e-b1f5-15e2b8569758",
   "metadata": {},
   "outputs": [
    {
     "name": "stdout",
     "output_type": "stream",
     "text": [
      "Epoch 1/5\n",
      "390/390 - 188s - loss: 0.4766 - accuracy: 0.7722 - val_loss: 0.2221 - val_accuracy: 0.9531 - 188s/epoch - 481ms/step\n",
      "Epoch 2/5\n",
      "390/390 - 189s - loss: 0.2865 - accuracy: 0.8846 - val_loss: 0.2441 - val_accuracy: 0.9062 - 189s/epoch - 484ms/step\n",
      "Epoch 3/5\n",
      "390/390 - 162s - loss: 0.2649 - accuracy: 0.8931 - val_loss: 0.3264 - val_accuracy: 0.8750 - 162s/epoch - 416ms/step\n",
      "Epoch 4/5\n",
      "390/390 - 162s - loss: 0.2252 - accuracy: 0.9127 - val_loss: 0.2543 - val_accuracy: 0.9062 - 162s/epoch - 416ms/step\n",
      "Epoch 5/5\n",
      "390/390 - 164s - loss: 0.1921 - accuracy: 0.9277 - val_loss: 0.2923 - val_accuracy: 0.8750 - 164s/epoch - 420ms/step\n"
     ]
    }
   ],
   "source": [
    "# compile model\n",
    "\n",
    "bi_lstm_model.compile(\n",
    "    loss='binary_crossentropy',\n",
    "    optimizer='adam',\n",
    "    metrics=['accuracy']\n",
    ")\n",
    "history4=bi_lstm_model.fit(x_train,y_train,batch_size=64,epochs=5,verbose=2,validation_data=(x_valid,y_valid))"
   ]
  },
  {
   "cell_type": "code",
   "execution_count": 40,
   "id": "76e797fe-e411-4df4-b72f-0c34bc6448bb",
   "metadata": {},
   "outputs": [
    {
     "name": "stdout",
     "output_type": "stream",
     "text": [
      "782/782 - 80s - loss: 2.0432 - accuracy: 0.4955 - 80s/epoch - 103ms/step\n",
      "rnn model score ->  [2.043208360671997, 0.4955199956893921]\n"
     ]
    }
   ],
   "source": [
    "print(\"rnn model score -> \",bi_lstm_model.evaluate(x_test,y_test,verbose=2))"
   ]
  },
  {
   "cell_type": "code",
   "execution_count": null,
   "id": "f5c307e7-81a5-41f1-b43f-776949764217",
   "metadata": {},
   "outputs": [],
   "source": []
  }
 ],
 "metadata": {
  "kernelspec": {
   "display_name": "Python 3 (ipykernel)",
   "language": "python",
   "name": "python3"
  },
  "language_info": {
   "codemirror_mode": {
    "name": "ipython",
    "version": 3
   },
   "file_extension": ".py",
   "mimetype": "text/x-python",
   "name": "python",
   "nbconvert_exporter": "python",
   "pygments_lexer": "ipython3",
   "version": "3.8.10"
  }
 },
 "nbformat": 4,
 "nbformat_minor": 5
}
